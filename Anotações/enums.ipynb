{
 "cells": [
  {
   "cell_type": "markdown",
   "metadata": {},
   "source": [
    "## Enums\n",
    "___\n",
    "#### Serve para especificar um conjunto de constantes\n",
    "___\n",
    "#### Definido por ENUM\n",
    "___\n",
    "#### Melhor semântica, código mais legível e é melhor pro compilador"
   ]
  },
  {
   "cell_type": "markdown",
   "metadata": {},
   "source": []
  }
 ],
 "metadata": {
  "language_info": {
   "name": "python"
  },
  "orig_nbformat": 4
 },
 "nbformat": 4,
 "nbformat_minor": 2
}

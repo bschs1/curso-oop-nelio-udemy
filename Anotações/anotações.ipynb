{
 "cells": [
  {
   "cell_type": "markdown",
   "metadata": {},
   "source": [
    "### <span style='background:green'> Design no Java, como é a estruturação de um Programa em Java\n",
    "</span>\n",
    "\n"
   ]
  },
  {
   "cell_type": "markdown",
   "metadata": {},
   "source": [
    "### Dentro de um Sistema orientado a objetos = tudo é objeto\n",
    "\n",
    "## Para organizar melhor temos esse padrão um dos padrões de design:\n",
    "\n",
    "___\n",
    "\n",
    "#### Views = Telas\n",
    "#### Controller = Faz o meio de campo entre a tela e o sistema\n",
    "#### Services = Serviços mesmo\n",
    "#### Repositories = Acessa o banco de dados\n",
    "#### Entites = Entidades de negocios, como clientes, pedidos, produtos e etc\n",
    "\n",
    " "
   ]
  },
  {
   "cell_type": "markdown",
   "metadata": {
    "vscode": {
     "languageId": "html"
    }
   },
   "source": [
    "#### Entites = Entidades de negocios, como clientes, pedidos, produtos e etc\n",
    " \n",
    "<img src=\"images/entities.png\" alt=\"Entities\" width=\"600\" height=\"400\"/>\n"
   ]
  },
  {
   "cell_type": "markdown",
   "metadata": {},
   "source": [
    "#### Services = Serviços mesmo\n",
    "\n",
    "<img src=\"images/services.png\" alt=\"Serviços\" width=\"600\" height=\"400\"/>\n",
    "\n",
    " > ####  Nesse caso o serviço está associado a um repositório, um repositório de pedidos que é um objeto responsável por fazer operações com o banco de dados.\n",
    ">> EX: Pode estar associado a um serviço que envia e-mail, na hora de registrar o pedido ele irá desparar um e-mail para o usuário. Neste caso o serviço de pedidos é associado ao serviço de emails.\n",
    "\n",
    ">>> EX2: No nosso UML alí acima o serviço de autenticação pode também precisar do mesmo serviço de email, ai já entra em orientação a objetos no quesito de reutilizar código\n"
   ]
  },
  {
   "cell_type": "markdown",
   "metadata": {},
   "source": []
  }
 ],
 "metadata": {
  "kernelspec": {
   "display_name": "Python 3.10.5 64-bit",
   "language": "python",
   "name": "python3"
  },
  "language_info": {
   "codemirror_mode": {
    "name": "ipython",
    "version": 3
   },
   "file_extension": ".py",
   "mimetype": "text/x-python",
   "name": "python",
   "nbconvert_exporter": "python",
   "pygments_lexer": "ipython3",
   "version": "3.10.5"
  },
  "orig_nbformat": 4,
  "vscode": {
   "interpreter": {
    "hash": "369f2c481f4da34e4445cda3fffd2e751bd1c4d706f27375911949ba6bb62e1c"
   }
  }
 },
 "nbformat": 4,
 "nbformat_minor": 2
}
